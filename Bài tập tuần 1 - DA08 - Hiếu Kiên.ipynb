{
 "cells": [
  {
   "cell_type": "code",
   "execution_count": 19,
   "id": "609868f1",
   "metadata": {},
   "outputs": [],
   "source": [
    "x = 99\n",
    "def loi_chao(ho,ten_dem,ten_goi,danh_xung,nam_sinh):\n",
    "    global x\n",
    "    x=x+1\n",
    "    nam_sinh = int(nam_sinh)\n",
    "    tuoi = 2023 - nam_sinh\n",
    "    print(f\"Xin chào {danh_xung}.{ho}\")\n",
    "    print(f\"Tên in trên vé của bạn là {ho} {ten_dem} {ten_goi} \")\n",
    "    print(f\"Số ghế của bạn là {x}\")\n",
    "    print(f\"Bạn năm nay {tuoi} tuổi\")"
   ]
  },
  {
   "cell_type": "code",
   "execution_count": 20,
   "id": "1d800e89",
   "metadata": {},
   "outputs": [
    {
     "name": "stdout",
     "output_type": "stream",
     "text": [
      "Xin chào Mr.Nguyen\n",
      "Tên in trên vé của bạn là Nguyen Trinh Hieu Kien \n",
      "Số ghế của bạn là 100\n",
      "Bạn năm nay 20 tuổi\n"
     ]
    }
   ],
   "source": [
    "loi_chao(\"Nguyen\",\"Trinh Hieu\",\"Kien\",\"Mr\",2003)"
   ]
  },
  {
   "cell_type": "code",
   "execution_count": 21,
   "id": "1580e86e",
   "metadata": {},
   "outputs": [
    {
     "name": "stdout",
     "output_type": "stream",
     "text": [
      "Xin chào d.a\n",
      "Tên in trên vé của bạn là a b c \n",
      "Số ghế của bạn là 101\n",
      "Bạn năm nay 23 tuổi\n"
     ]
    }
   ],
   "source": [
    "loi_chao(\"a\",\"b\",\"c\",\"d\",2000)"
   ]
  },
  {
   "cell_type": "code",
   "execution_count": null,
   "id": "1f8a9c48",
   "metadata": {},
   "outputs": [],
   "source": []
  }
 ],
 "metadata": {
  "kernelspec": {
   "display_name": "Python 3 (ipykernel)",
   "language": "python",
   "name": "python3"
  },
  "language_info": {
   "codemirror_mode": {
    "name": "ipython",
    "version": 3
   },
   "file_extension": ".py",
   "mimetype": "text/x-python",
   "name": "python",
   "nbconvert_exporter": "python",
   "pygments_lexer": "ipython3",
   "version": "3.9.13"
  }
 },
 "nbformat": 4,
 "nbformat_minor": 5
}
